{
 "cells": [
  {
   "cell_type": "code",
   "execution_count": 8,
   "metadata": {},
   "outputs": [
    {
     "name": "stdout",
     "output_type": "stream",
     "text": [
      "what is your age ?18\n",
      "you are allowed to ride\n"
     ]
    }
   ],
   "source": [
    "age = int(input(\"what is your age ?\"))\n",
    "if age >= 18 :\n",
    "  print(\"you are allowed to ride\")\n",
    "else :\n",
    "  print(\"you are not allowed\")"
   ]
  },
  {
   "cell_type": "code",
   "execution_count": 14,
   "metadata": {},
   "outputs": [
    {
     "name": "stdout",
     "output_type": "stream",
     "text": [
      "your answer is correct\n"
     ]
    }
   ],
   "source": [
    "x = 10;\n",
    "y = 12;\n",
    "a = 30;\n",
    "b = 10;\n",
    "\n",
    "if x + y != a -b :\n",
    "    print(\"your answer is correct\")\n",
    "else:\n",
    "    print(\"wrong answer\");"
   ]
  },
  {
   "cell_type": "code",
   "execution_count": 3,
   "metadata": {},
   "outputs": [
    {
     "name": "stdout",
     "output_type": "stream",
     "text": [
      "enter your percentage %79\n",
      "A\n"
     ]
    }
   ],
   "source": [
    "per = int(input(\"enter your percentage %\"));\n",
    "if per >= 80 and per <=100 :\n",
    "    print(\"A+\")\n",
    "elif per >= 70 and per < 80 :\n",
    "    print(\"A\")\n",
    "elif per >= 60 and per < 70 :\n",
    "    print(\"B\")\n",
    "elif per >= 0 and per < 60 :\n",
    "    print(\"Fail\")\n",
    "else :\n",
    "    print(\"you have given inapproperiate %\")"
   ]
  }
 ],
 "metadata": {
  "kernelspec": {
   "display_name": "Python 3",
   "language": "python",
   "name": "python3"
  },
  "language_info": {
   "codemirror_mode": {
    "name": "ipython",
    "version": 3
   },
   "file_extension": ".py",
   "mimetype": "text/x-python",
   "name": "python",
   "nbconvert_exporter": "python",
   "pygments_lexer": "ipython3",
   "version": "3.7.4"
  }
 },
 "nbformat": 4,
 "nbformat_minor": 2
}
